{
  "nbformat": 4,
  "nbformat_minor": 0,
  "metadata": {
    "colab": {
      "name": "ProjetGRAPH.ipynb",
      "provenance": [],
      "collapsed_sections": [
        "O-uG8ttIJWMS"
      ],
      "toc_visible": true,
      "include_colab_link": true
    },
    "kernelspec": {
      "name": "python3",
      "display_name": "Python 3"
    },
    "language_info": {
      "name": "python"
    }
  },
  "cells": [
    {
      "cell_type": "markdown",
      "metadata": {
        "id": "view-in-github",
        "colab_type": "text"
      },
      "source": [
        "<a href=\"https://colab.research.google.com/github/tzlan/French_Airports_Graphs_With_Python/blob/master/ProjetGRAPH.ipynb\" target=\"_parent\"><img src=\"https://colab.research.google.com/assets/colab-badge.svg\" alt=\"Open In Colab\"/></a>"
      ]
    },
    {
      "cell_type": "markdown",
      "metadata": {
        "id": "aroR-x2b7NP-"
      },
      "source": [
        "\n",
        "# Import des bibliothéque \n"
      ]
    },
    {
      "cell_type": "code",
      "metadata": {
        "id": "KHGgR6xn7S4f"
      },
      "source": [
        "import pandas as pd\n",
        "import numpy as np\n",
        "import networkx as nx \n",
        "import matplotlib.pyplot as plt\n",
        "from sklearn import preprocessing\n",
        "import community as community_louvain\n",
        "from google.colab import drive\n",
        "from scipy.sparse.csgraph import shortest_path\n",
        "aeroport = [\"BEAUVAIS-TILLE\", \"BIARRITZ-BAYONNE-ANGLET\", \"BORDEAUX-MERIGNAC\", \"LILLE-LESQUIN\", \"LYON-SAINT-EXUPERY\", \"MARSEILLE-PROVENCE\",\"NANTES-ATLANTIQUE\",\"NICE-COTE-D'AZUR\",\"PARIS-ORLY\",\"ROUEN-VALLEE-DE-SEINE\",\"STRASBOURG-ENTZHEIM\",\"TOULOUSE-BLAGNAC\",\"TOURS-VAL-DE-LOIRE\"]\n",
        "j=0"
      ],
      "execution_count": null,
      "outputs": []
    },
    {
      "cell_type": "markdown",
      "metadata": {
        "id": "dObMkTW27v3N"
      },
      "source": [
        "# Connection au Drive "
      ]
    },
    {
      "cell_type": "code",
      "metadata": {
        "colab": {
          "base_uri": "https://localhost:8080/"
        },
        "id": "pEBVmotK73-q",
        "outputId": "ecfccab4-9927-4e3a-ca34-c05af0f3af88"
      },
      "source": [
        "drive.mount('/content/gdrive')"
      ],
      "execution_count": null,
      "outputs": [
        {
          "output_type": "stream",
          "text": [
            "Mounted at /content/gdrive\n"
          ],
          "name": "stdout"
        }
      ]
    },
    {
      "cell_type": "markdown",
      "metadata": {
        "id": "jFbfeQ5Q8ixm"
      },
      "source": [
        "# Lecture des donnée depuis un fichier CSV"
      ]
    },
    {
      "cell_type": "code",
      "metadata": {
        "id": "b4ssMH8k8pwq"
      },
      "source": [
        "# Show all lines\n",
        "pd.set_option('display.max_rows', None)\n",
        "pd.set_option('display.max_columns', None)\n",
        "pd.set_option('display.width', None)\n",
        "pd.set_option('display.max_colwidth', None)\n",
        "\n",
        "DatAvion = pd.read_csv(\"/content/gdrive/MyDrive/OpenData/empreintecarbonneavion.csv\", sep=\";\")\n",
        "DatDistanceAvion = pd.read_csv(\"/content/gdrive/MyDrive/OpenData/DistanceAvion.csv\", sep=\";\")\n",
        "DatVehicule = pd.read_csv(\"/content/gdrive/MyDrive/OpenData/EmpreinteCarbonneVehicule.csv\", sep=\";\")\n",
        "DatDistanceVehicule = pd.read_csv(\"/content/gdrive/MyDrive/OpenData/DistanceVehicule.csv\", sep=\";\")\n",
        "\n",
        "#print(DatAvion)\n",
        "\n",
        "#print(DatAvion.info)\n",
        "#DatAvion.head()\n",
        "#DatDistanceAvion.head()\n",
        "#DatDistanceVehicule.head()\n",
        "#DatVehicule.head()\n"
      ],
      "execution_count": null,
      "outputs": []
    },
    {
      "cell_type": "markdown",
      "metadata": {
        "id": "HO_jfF3CQ0jp"
      },
      "source": [
        "# Nouvelle Donner Le Temps\n"
      ]
    },
    {
      "cell_type": "code",
      "metadata": {
        "colab": {
          "base_uri": "https://localhost:8080/"
        },
        "id": "9c4HWck_RAcJ",
        "outputId": "a0da6d6b-6fbf-4b8a-e0a8-7ef88e6bd011"
      },
      "source": [
        "#Un Avion Vol en moyenne a 1060 km/h\n",
        "#Sois 0.294444KM/S Donc on multiplie notre vitesse par la disctanse qui va nous donné une durée en Seconde \n",
        "for u in aeroport:\n",
        "  j=0\n",
        "  for v in aeroport:\n",
        "    DatDistanceAvion[u][j]=DatDistanceAvion[u][j]/1060\n",
        "    DatDistanceVehicule[u][j]=DatDistanceVehicule[u][j]/120\n",
        "    j=j+1\n",
        "DatDistanceAvion.info()\n"
      ],
      "execution_count": null,
      "outputs": [
        {
          "output_type": "stream",
          "text": [
            "<class 'pandas.core.frame.DataFrame'>\n",
            "RangeIndex: 13 entries, 0 to 12\n",
            "Data columns (total 13 columns):\n",
            " #   Column                   Non-Null Count  Dtype  \n",
            "---  ------                   --------------  -----  \n",
            " 0   BEAUVAIS-TILLE           13 non-null     float64\n",
            " 1   BIARRITZ-BAYONNE-ANGLET  13 non-null     float64\n",
            " 2   BORDEAUX-MERIGNAC        13 non-null     float64\n",
            " 3   LILLE-LESQUIN            13 non-null     float64\n",
            " 4   LYON-SAINT-EXUPERY       13 non-null     float64\n",
            " 5   MARSEILLE-PROVENCE       13 non-null     float64\n",
            " 6   NANTES-ATLANTIQUE        13 non-null     float64\n",
            " 7   NICE-COTE-D'AZUR         13 non-null     float64\n",
            " 8   PARIS-ORLY               13 non-null     float64\n",
            " 9   ROUEN-VALLEE-DE-SEINE    13 non-null     float64\n",
            " 10  STRASBOURG-ENTZHEIM      13 non-null     float64\n",
            " 11  TOULOUSE-BLAGNAC         13 non-null     float64\n",
            " 12  TOURS-VAL-DE-LOIRE       13 non-null     float64\n",
            "dtypes: float64(13)\n",
            "memory usage: 1.4 KB\n"
          ],
          "name": "stdout"
        }
      ]
    },
    {
      "cell_type": "markdown",
      "metadata": {
        "id": "O-uG8ttIJWMS"
      },
      "source": [
        "# Affichage de Données\n",
        "\n"
      ]
    },
    {
      "cell_type": "code",
      "metadata": {
        "colab": {
          "base_uri": "https://localhost:8080/"
        },
        "id": "2FJ3cWpkJZRP",
        "outputId": "9821fe73-1e49-4f37-983f-028ca47cc4fc"
      },
      "source": [
        "DatAvion.info()"
      ],
      "execution_count": null,
      "outputs": [
        {
          "output_type": "stream",
          "text": [
            "<class 'pandas.core.frame.DataFrame'>\n",
            "RangeIndex: 13 entries, 0 to 12\n",
            "Data columns (total 13 columns):\n",
            " #   Column                   Non-Null Count  Dtype\n",
            "---  ------                   --------------  -----\n",
            " 0   BEAUVAIS-TILLE           13 non-null     int64\n",
            " 1   BIARRITZ-BAYONNE-ANGLET  13 non-null     int64\n",
            " 2   BORDEAUX-MERIGNAC        13 non-null     int64\n",
            " 3   LILLE-LESQUIN            13 non-null     int64\n",
            " 4   LYON-SAINT-EXUPERY       13 non-null     int64\n",
            " 5   MARSEILLE-PROVENCE       13 non-null     int64\n",
            " 6   NANTES-ATLANTIQUE        13 non-null     int64\n",
            " 7   NICE-COTE-D'AZUR         13 non-null     int64\n",
            " 8   PARIS-ORLY               13 non-null     int64\n",
            " 9   ROUEN-VALLEE-DE-SEINE    13 non-null     int64\n",
            " 10  STRASBOURG-ENTZHEIM      13 non-null     int64\n",
            " 11  TOULOUSE-BLAGNAC         13 non-null     int64\n",
            " 12  TOURS-VAL-DE-LOIRE       13 non-null     int64\n",
            "dtypes: int64(13)\n",
            "memory usage: 1.4 KB\n"
          ],
          "name": "stdout"
        }
      ]
    },
    {
      "cell_type": "code",
      "metadata": {
        "id": "g2gdsz27C70H",
        "colab": {
          "base_uri": "https://localhost:8080/",
          "height": 215
        },
        "outputId": "a37cf8d2-774e-4e37-f0ad-38a8d01952e7"
      },
      "source": [
        "DatDistanceAvion.head()\n",
        "#DatDistanceAvion.info()"
      ],
      "execution_count": null,
      "outputs": [
        {
          "output_type": "execute_result",
          "data": {
            "text/html": [
              "<div>\n",
              "<style scoped>\n",
              "    .dataframe tbody tr th:only-of-type {\n",
              "        vertical-align: middle;\n",
              "    }\n",
              "\n",
              "    .dataframe tbody tr th {\n",
              "        vertical-align: top;\n",
              "    }\n",
              "\n",
              "    .dataframe thead th {\n",
              "        text-align: right;\n",
              "    }\n",
              "</style>\n",
              "<table border=\"1\" class=\"dataframe\">\n",
              "  <thead>\n",
              "    <tr style=\"text-align: right;\">\n",
              "      <th></th>\n",
              "      <th>BEAUVAIS-TILLE</th>\n",
              "      <th>BIARRITZ-BAYONNE-ANGLET</th>\n",
              "      <th>BORDEAUX-MERIGNAC</th>\n",
              "      <th>LILLE-LESQUIN</th>\n",
              "      <th>LYON-SAINT-EXUPERY</th>\n",
              "      <th>MARSEILLE-PROVENCE</th>\n",
              "      <th>NANTES-ATLANTIQUE</th>\n",
              "      <th>NICE-COTE-D'AZUR</th>\n",
              "      <th>PARIS-ORLY</th>\n",
              "      <th>ROUEN-VALLEE-DE-SEINE</th>\n",
              "      <th>STRASBOURG-ENTZHEIM</th>\n",
              "      <th>TOULOUSE-BLAGNAC</th>\n",
              "      <th>TOURS-VAL-DE-LOIRE</th>\n",
              "    </tr>\n",
              "  </thead>\n",
              "  <tbody>\n",
              "    <tr>\n",
              "      <th>0</th>\n",
              "      <td>0.000000</td>\n",
              "      <td>0.677877</td>\n",
              "      <td>0.518443</td>\n",
              "      <td>0.140142</td>\n",
              "      <td>0.000000</td>\n",
              "      <td>0.686368</td>\n",
              "      <td>0.343915</td>\n",
              "      <td>0.708066</td>\n",
              "      <td>0.062783</td>\n",
              "      <td>0.067500</td>\n",
              "      <td>0.400519</td>\n",
              "      <td>0.613726</td>\n",
              "      <td>0.235425</td>\n",
              "    </tr>\n",
              "    <tr>\n",
              "      <th>1</th>\n",
              "      <td>0.677877</td>\n",
              "      <td>0.000000</td>\n",
              "      <td>0.160896</td>\n",
              "      <td>0.817500</td>\n",
              "      <td>0.533538</td>\n",
              "      <td>0.528821</td>\n",
              "      <td>0.392028</td>\n",
              "      <td>0.671274</td>\n",
              "      <td>0.620330</td>\n",
              "      <td>0.654292</td>\n",
              "      <td>0.863726</td>\n",
              "      <td>0.228821</td>\n",
              "      <td>0.442972</td>\n",
              "    </tr>\n",
              "    <tr>\n",
              "      <th>2</th>\n",
              "      <td>0.518443</td>\n",
              "      <td>0.160896</td>\n",
              "      <td>0.000000</td>\n",
              "      <td>0.657123</td>\n",
              "      <td>0.410896</td>\n",
              "      <td>0.476934</td>\n",
              "      <td>0.476934</td>\n",
              "      <td>0.000000</td>\n",
              "      <td>0.473160</td>\n",
              "      <td>0.497689</td>\n",
              "      <td>0.716557</td>\n",
              "      <td>0.200519</td>\n",
              "      <td>0.000000</td>\n",
              "    </tr>\n",
              "    <tr>\n",
              "      <th>3</th>\n",
              "      <td>0.142972</td>\n",
              "      <td>0.820330</td>\n",
              "      <td>0.660896</td>\n",
              "      <td>0.000000</td>\n",
              "      <td>0.521274</td>\n",
              "      <td>0.792028</td>\n",
              "      <td>0.000000</td>\n",
              "      <td>0.783538</td>\n",
              "      <td>0.189198</td>\n",
              "      <td>0.181651</td>\n",
              "      <td>0.379764</td>\n",
              "      <td>0.740142</td>\n",
              "      <td>0.375047</td>\n",
              "    </tr>\n",
              "    <tr>\n",
              "      <th>4</th>\n",
              "      <td>0.000000</td>\n",
              "      <td>0.533538</td>\n",
              "      <td>0.410896</td>\n",
              "      <td>0.521274</td>\n",
              "      <td>0.000000</td>\n",
              "      <td>0.261840</td>\n",
              "      <td>0.486368</td>\n",
              "      <td>0.282594</td>\n",
              "      <td>0.370330</td>\n",
              "      <td>0.468443</td>\n",
              "      <td>0.362783</td>\n",
              "      <td>0.339198</td>\n",
              "      <td>0.344858</td>\n",
              "    </tr>\n",
              "  </tbody>\n",
              "</table>\n",
              "</div>"
            ],
            "text/plain": [
              "   BEAUVAIS-TILLE  BIARRITZ-BAYONNE-ANGLET  BORDEAUX-MERIGNAC  LILLE-LESQUIN  \\\n",
              "0        0.000000                 0.677877           0.518443       0.140142   \n",
              "1        0.677877                 0.000000           0.160896       0.817500   \n",
              "2        0.518443                 0.160896           0.000000       0.657123   \n",
              "3        0.142972                 0.820330           0.660896       0.000000   \n",
              "4        0.000000                 0.533538           0.410896       0.521274   \n",
              "\n",
              "   LYON-SAINT-EXUPERY  MARSEILLE-PROVENCE  NANTES-ATLANTIQUE  \\\n",
              "0            0.000000            0.686368           0.343915   \n",
              "1            0.533538            0.528821           0.392028   \n",
              "2            0.410896            0.476934           0.476934   \n",
              "3            0.521274            0.792028           0.000000   \n",
              "4            0.000000            0.261840           0.486368   \n",
              "\n",
              "   NICE-COTE-D'AZUR  PARIS-ORLY  ROUEN-VALLEE-DE-SEINE  STRASBOURG-ENTZHEIM  \\\n",
              "0          0.708066    0.062783               0.067500             0.400519   \n",
              "1          0.671274    0.620330               0.654292             0.863726   \n",
              "2          0.000000    0.473160               0.497689             0.716557   \n",
              "3          0.783538    0.189198               0.181651             0.379764   \n",
              "4          0.282594    0.370330               0.468443             0.362783   \n",
              "\n",
              "   TOULOUSE-BLAGNAC  TOURS-VAL-DE-LOIRE  \n",
              "0          0.613726            0.235425  \n",
              "1          0.228821            0.442972  \n",
              "2          0.200519            0.000000  \n",
              "3          0.740142            0.375047  \n",
              "4          0.339198            0.344858  "
            ]
          },
          "metadata": {
            "tags": []
          },
          "execution_count": 6
        }
      ]
    },
    {
      "cell_type": "code",
      "metadata": {
        "id": "RCpaMon8JgDJ",
        "colab": {
          "base_uri": "https://localhost:8080/",
          "height": 215
        },
        "outputId": "8b6f9d4f-c8b0-4b44-cb3c-e770515c8330"
      },
      "source": [
        "DatVehicule.head()"
      ],
      "execution_count": null,
      "outputs": [
        {
          "output_type": "execute_result",
          "data": {
            "text/html": [
              "<div>\n",
              "<style scoped>\n",
              "    .dataframe tbody tr th:only-of-type {\n",
              "        vertical-align: middle;\n",
              "    }\n",
              "\n",
              "    .dataframe tbody tr th {\n",
              "        vertical-align: top;\n",
              "    }\n",
              "\n",
              "    .dataframe thead th {\n",
              "        text-align: right;\n",
              "    }\n",
              "</style>\n",
              "<table border=\"1\" class=\"dataframe\">\n",
              "  <thead>\n",
              "    <tr style=\"text-align: right;\">\n",
              "      <th></th>\n",
              "      <th>BEAUVAIS-TILLE</th>\n",
              "      <th>BIARRITZ-BAYONNE-ANGLET</th>\n",
              "      <th>BORDEAUX-MERIGNAC</th>\n",
              "      <th>LILLE-LESQUIN</th>\n",
              "      <th>LYON-SAINT-EXUPERY</th>\n",
              "      <th>MARSEILLE-PROVENCE</th>\n",
              "      <th>NANTES-ATLANTIQUE</th>\n",
              "      <th>NICE-COTE-D'AZUR</th>\n",
              "      <th>PARIS-ORLY</th>\n",
              "      <th>ROUEN-VALLEE-DE-SEINE</th>\n",
              "      <th>STRASBOURG-ENTZHEIM</th>\n",
              "      <th>TOULOUSE-BLAGNAC</th>\n",
              "      <th>TOURS-VAL-DE-LOIRE</th>\n",
              "    </tr>\n",
              "  </thead>\n",
              "  <tbody>\n",
              "    <tr>\n",
              "      <th>0</th>\n",
              "      <td>0</td>\n",
              "      <td>108500</td>\n",
              "      <td>83750</td>\n",
              "      <td>24875</td>\n",
              "      <td>69375</td>\n",
              "      <td>108000</td>\n",
              "      <td>58375</td>\n",
              "      <td>127750</td>\n",
              "      <td>11375</td>\n",
              "      <td>10750</td>\n",
              "      <td>72250</td>\n",
              "      <td>95125</td>\n",
              "      <td>40250</td>\n",
              "    </tr>\n",
              "    <tr>\n",
              "      <th>1</th>\n",
              "      <td>108500</td>\n",
              "      <td>0</td>\n",
              "      <td>24875</td>\n",
              "      <td>124875</td>\n",
              "      <td>93625</td>\n",
              "      <td>88125</td>\n",
              "      <td>68250</td>\n",
              "      <td>107875</td>\n",
              "      <td>98000</td>\n",
              "      <td>106625</td>\n",
              "      <td>141875</td>\n",
              "      <td>39000</td>\n",
              "      <td>66125</td>\n",
              "    </tr>\n",
              "    <tr>\n",
              "      <th>2</th>\n",
              "      <td>83750</td>\n",
              "      <td>24875</td>\n",
              "      <td>0</td>\n",
              "      <td>100000</td>\n",
              "      <td>69500</td>\n",
              "      <td>80625</td>\n",
              "      <td>43500</td>\n",
              "      <td>100375</td>\n",
              "      <td>73125</td>\n",
              "      <td>81750</td>\n",
              "      <td>117750</td>\n",
              "      <td>30625</td>\n",
              "      <td>43750</td>\n",
              "    </tr>\n",
              "    <tr>\n",
              "      <th>3</th>\n",
              "      <td>24875</td>\n",
              "      <td>124875</td>\n",
              "      <td>100000</td>\n",
              "      <td>0</td>\n",
              "      <td>85125</td>\n",
              "      <td>123750</td>\n",
              "      <td>75000</td>\n",
              "      <td>143500</td>\n",
              "      <td>27500</td>\n",
              "      <td>32000</td>\n",
              "      <td>65625</td>\n",
              "      <td>111750</td>\n",
              "      <td>56875</td>\n",
              "    </tr>\n",
              "    <tr>\n",
              "      <th>4</th>\n",
              "      <td>69375</td>\n",
              "      <td>93625</td>\n",
              "      <td>69500</td>\n",
              "      <td>85125</td>\n",
              "      <td>0</td>\n",
              "      <td>39250</td>\n",
              "      <td>85750</td>\n",
              "      <td>58875</td>\n",
              "      <td>61500</td>\n",
              "      <td>74375</td>\n",
              "      <td>60875</td>\n",
              "      <td>67250</td>\n",
              "      <td>61125</td>\n",
              "    </tr>\n",
              "  </tbody>\n",
              "</table>\n",
              "</div>"
            ],
            "text/plain": [
              "   BEAUVAIS-TILLE  BIARRITZ-BAYONNE-ANGLET  BORDEAUX-MERIGNAC  LILLE-LESQUIN  \\\n",
              "0               0                   108500              83750          24875   \n",
              "1          108500                        0              24875         124875   \n",
              "2           83750                    24875                  0         100000   \n",
              "3           24875                   124875             100000              0   \n",
              "4           69375                    93625              69500          85125   \n",
              "\n",
              "   LYON-SAINT-EXUPERY  MARSEILLE-PROVENCE  NANTES-ATLANTIQUE  \\\n",
              "0               69375              108000              58375   \n",
              "1               93625               88125              68250   \n",
              "2               69500               80625              43500   \n",
              "3               85125              123750              75000   \n",
              "4                   0               39250              85750   \n",
              "\n",
              "   NICE-COTE-D'AZUR  PARIS-ORLY  ROUEN-VALLEE-DE-SEINE  STRASBOURG-ENTZHEIM  \\\n",
              "0            127750       11375                  10750                72250   \n",
              "1            107875       98000                 106625               141875   \n",
              "2            100375       73125                  81750               117750   \n",
              "3            143500       27500                  32000                65625   \n",
              "4             58875       61500                  74375                60875   \n",
              "\n",
              "   TOULOUSE-BLAGNAC  TOURS-VAL-DE-LOIRE  \n",
              "0             95125               40250  \n",
              "1             39000               66125  \n",
              "2             30625               43750  \n",
              "3            111750               56875  \n",
              "4             67250               61125  "
            ]
          },
          "metadata": {
            "tags": []
          },
          "execution_count": 7
        }
      ]
    },
    {
      "cell_type": "code",
      "metadata": {
        "id": "NQHlCdDcJi19",
        "colab": {
          "base_uri": "https://localhost:8080/",
          "height": 215
        },
        "outputId": "b2a628e7-b616-4600-d5ce-a459344813d8"
      },
      "source": [
        "DatDistanceVehicule.head()"
      ],
      "execution_count": null,
      "outputs": [
        {
          "output_type": "execute_result",
          "data": {
            "text/html": [
              "<div>\n",
              "<style scoped>\n",
              "    .dataframe tbody tr th:only-of-type {\n",
              "        vertical-align: middle;\n",
              "    }\n",
              "\n",
              "    .dataframe tbody tr th {\n",
              "        vertical-align: top;\n",
              "    }\n",
              "\n",
              "    .dataframe thead th {\n",
              "        text-align: right;\n",
              "    }\n",
              "</style>\n",
              "<table border=\"1\" class=\"dataframe\">\n",
              "  <thead>\n",
              "    <tr style=\"text-align: right;\">\n",
              "      <th></th>\n",
              "      <th>BEAUVAIS-TILLE</th>\n",
              "      <th>BIARRITZ-BAYONNE-ANGLET</th>\n",
              "      <th>BORDEAUX-MERIGNAC</th>\n",
              "      <th>LILLE-LESQUIN</th>\n",
              "      <th>LYON-SAINT-EXUPERY</th>\n",
              "      <th>MARSEILLE-PROVENCE</th>\n",
              "      <th>NANTES-ATLANTIQUE</th>\n",
              "      <th>NICE-COTE-D'AZUR</th>\n",
              "      <th>PARIS-ORLY</th>\n",
              "      <th>ROUEN-VALLEE-DE-SEINE</th>\n",
              "      <th>STRASBOURG-ENTZHEIM</th>\n",
              "      <th>TOULOUSE-BLAGNAC</th>\n",
              "      <th>TOURS-VAL-DE-LOIRE</th>\n",
              "    </tr>\n",
              "  </thead>\n",
              "  <tbody>\n",
              "    <tr>\n",
              "      <th>0</th>\n",
              "      <td>0</td>\n",
              "      <td>7</td>\n",
              "      <td>5</td>\n",
              "      <td>1</td>\n",
              "      <td>4</td>\n",
              "      <td>7</td>\n",
              "      <td>3</td>\n",
              "      <td>8</td>\n",
              "      <td>0</td>\n",
              "      <td>0</td>\n",
              "      <td>4</td>\n",
              "      <td>6</td>\n",
              "      <td>2</td>\n",
              "    </tr>\n",
              "    <tr>\n",
              "      <th>1</th>\n",
              "      <td>7</td>\n",
              "      <td>0</td>\n",
              "      <td>1</td>\n",
              "      <td>8</td>\n",
              "      <td>6</td>\n",
              "      <td>5</td>\n",
              "      <td>4</td>\n",
              "      <td>7</td>\n",
              "      <td>6</td>\n",
              "      <td>7</td>\n",
              "      <td>9</td>\n",
              "      <td>2</td>\n",
              "      <td>4</td>\n",
              "    </tr>\n",
              "    <tr>\n",
              "      <th>2</th>\n",
              "      <td>5</td>\n",
              "      <td>1</td>\n",
              "      <td>0</td>\n",
              "      <td>6</td>\n",
              "      <td>4</td>\n",
              "      <td>5</td>\n",
              "      <td>2</td>\n",
              "      <td>6</td>\n",
              "      <td>4</td>\n",
              "      <td>5</td>\n",
              "      <td>7</td>\n",
              "      <td>2</td>\n",
              "      <td>2</td>\n",
              "    </tr>\n",
              "    <tr>\n",
              "      <th>3</th>\n",
              "      <td>1</td>\n",
              "      <td>8</td>\n",
              "      <td>6</td>\n",
              "      <td>0</td>\n",
              "      <td>5</td>\n",
              "      <td>8</td>\n",
              "      <td>5</td>\n",
              "      <td>9</td>\n",
              "      <td>1</td>\n",
              "      <td>2</td>\n",
              "      <td>4</td>\n",
              "      <td>7</td>\n",
              "      <td>3</td>\n",
              "    </tr>\n",
              "    <tr>\n",
              "      <th>4</th>\n",
              "      <td>4</td>\n",
              "      <td>6</td>\n",
              "      <td>4</td>\n",
              "      <td>5</td>\n",
              "      <td>0</td>\n",
              "      <td>2</td>\n",
              "      <td>5</td>\n",
              "      <td>3</td>\n",
              "      <td>4</td>\n",
              "      <td>4</td>\n",
              "      <td>4</td>\n",
              "      <td>4</td>\n",
              "      <td>4</td>\n",
              "    </tr>\n",
              "  </tbody>\n",
              "</table>\n",
              "</div>"
            ],
            "text/plain": [
              "   BEAUVAIS-TILLE  BIARRITZ-BAYONNE-ANGLET  BORDEAUX-MERIGNAC  LILLE-LESQUIN  \\\n",
              "0               0                        7                  5              1   \n",
              "1               7                        0                  1              8   \n",
              "2               5                        1                  0              6   \n",
              "3               1                        8                  6              0   \n",
              "4               4                        6                  4              5   \n",
              "\n",
              "   LYON-SAINT-EXUPERY  MARSEILLE-PROVENCE  NANTES-ATLANTIQUE  \\\n",
              "0                   4                   7                  3   \n",
              "1                   6                   5                  4   \n",
              "2                   4                   5                  2   \n",
              "3                   5                   8                  5   \n",
              "4                   0                   2                  5   \n",
              "\n",
              "   NICE-COTE-D'AZUR  PARIS-ORLY  ROUEN-VALLEE-DE-SEINE  STRASBOURG-ENTZHEIM  \\\n",
              "0                 8           0                      0                    4   \n",
              "1                 7           6                      7                    9   \n",
              "2                 6           4                      5                    7   \n",
              "3                 9           1                      2                    4   \n",
              "4                 3           4                      4                    4   \n",
              "\n",
              "   TOULOUSE-BLAGNAC  TOURS-VAL-DE-LOIRE  \n",
              "0                 6                   2  \n",
              "1                 2                   4  \n",
              "2                 2                   2  \n",
              "3                 7                   3  \n",
              "4                 4                   4  "
            ]
          },
          "metadata": {
            "tags": []
          },
          "execution_count": 8
        }
      ]
    },
    {
      "cell_type": "markdown",
      "metadata": {
        "id": "uVKb_xTOC6lh"
      },
      "source": [
        "# Normalisation \n",
        "On va normaliser nos données pour faciliter nos calculs. Nous allons transformer nos données entre 0 et 100. "
      ]
    },
    {
      "cell_type": "code",
      "metadata": {
        "id": "mG5vY2VNFpr2"
      },
      "source": [
        "for v in aeroport :\n",
        "  #DatDistanceAvion[v] = DatDistanceAvion[v]/100\n",
        "  #DatDistanceVehicule[v] = DatDistanceVehicule[v]/100 \n",
        "  DatAvion[v] = DatAvion[v]/100\n",
        "  DatVehicule[v] = DatVehicule[v]/100\n"
      ],
      "execution_count": null,
      "outputs": []
    },
    {
      "cell_type": "code",
      "metadata": {
        "colab": {
          "base_uri": "https://localhost:8080/",
          "height": 221
        },
        "id": "6iGh-n2JIL7b",
        "outputId": "79697822-49ce-4c7e-a5bb-abeb1d1be13c"
      },
      "source": [
        "DatDistanceAvion.head()\n",
        "#DatDistanceAvion.info()\n",
        "\n"
      ],
      "execution_count": null,
      "outputs": [
        {
          "output_type": "execute_result",
          "data": {
            "text/html": [
              "<div>\n",
              "<style scoped>\n",
              "    .dataframe tbody tr th:only-of-type {\n",
              "        vertical-align: middle;\n",
              "    }\n",
              "\n",
              "    .dataframe tbody tr th {\n",
              "        vertical-align: top;\n",
              "    }\n",
              "\n",
              "    .dataframe thead th {\n",
              "        text-align: right;\n",
              "    }\n",
              "</style>\n",
              "<table border=\"1\" class=\"dataframe\">\n",
              "  <thead>\n",
              "    <tr style=\"text-align: right;\">\n",
              "      <th></th>\n",
              "      <th>BEAUVAIS-TILLE</th>\n",
              "      <th>BIARRITZ-BAYONNE-ANGLET</th>\n",
              "      <th>BORDEAUX-MERIGNAC</th>\n",
              "      <th>LILLE-LESQUIN</th>\n",
              "      <th>LYON-SAINT-EXUPERY</th>\n",
              "      <th>MARSEILLE-PROVENCE</th>\n",
              "      <th>NANTES-ATLANTIQUE</th>\n",
              "      <th>NICE-COTE-D'AZUR</th>\n",
              "      <th>PARIS-ORLY</th>\n",
              "      <th>ROUEN-VALLEE-DE-SEINE</th>\n",
              "      <th>STRASBOURG-ENTZHEIM</th>\n",
              "      <th>TOULOUSE-BLAGNAC</th>\n",
              "      <th>TOURS-VAL-DE-LOIRE</th>\n",
              "    </tr>\n",
              "  </thead>\n",
              "  <tbody>\n",
              "    <tr>\n",
              "      <th>0</th>\n",
              "      <td>0.000000</td>\n",
              "      <td>0.677877</td>\n",
              "      <td>0.518443</td>\n",
              "      <td>0.140142</td>\n",
              "      <td>0.431651</td>\n",
              "      <td>0.686368</td>\n",
              "      <td>0.343915</td>\n",
              "      <td>0.708066</td>\n",
              "      <td>0.062783</td>\n",
              "      <td>0.067500</td>\n",
              "      <td>0.400519</td>\n",
              "      <td>0.613726</td>\n",
              "      <td>0.235425</td>\n",
              "    </tr>\n",
              "    <tr>\n",
              "      <th>1</th>\n",
              "      <td>0.677877</td>\n",
              "      <td>0.000000</td>\n",
              "      <td>0.160896</td>\n",
              "      <td>0.817500</td>\n",
              "      <td>0.533538</td>\n",
              "      <td>0.528821</td>\n",
              "      <td>0.392028</td>\n",
              "      <td>0.671274</td>\n",
              "      <td>0.620330</td>\n",
              "      <td>0.654292</td>\n",
              "      <td>0.863726</td>\n",
              "      <td>0.228821</td>\n",
              "      <td>0.442972</td>\n",
              "    </tr>\n",
              "    <tr>\n",
              "      <th>2</th>\n",
              "      <td>0.518443</td>\n",
              "      <td>0.160896</td>\n",
              "      <td>0.000000</td>\n",
              "      <td>0.657123</td>\n",
              "      <td>0.410896</td>\n",
              "      <td>0.476934</td>\n",
              "      <td>0.476934</td>\n",
              "      <td>0.602406</td>\n",
              "      <td>0.473160</td>\n",
              "      <td>0.497689</td>\n",
              "      <td>0.716557</td>\n",
              "      <td>0.200519</td>\n",
              "      <td>0.283538</td>\n",
              "    </tr>\n",
              "    <tr>\n",
              "      <th>3</th>\n",
              "      <td>0.142972</td>\n",
              "      <td>0.820330</td>\n",
              "      <td>0.660896</td>\n",
              "      <td>0.000000</td>\n",
              "      <td>0.521274</td>\n",
              "      <td>0.792028</td>\n",
              "      <td>0.478821</td>\n",
              "      <td>0.783538</td>\n",
              "      <td>0.189198</td>\n",
              "      <td>0.181651</td>\n",
              "      <td>0.379764</td>\n",
              "      <td>0.740142</td>\n",
              "      <td>0.375047</td>\n",
              "    </tr>\n",
              "    <tr>\n",
              "      <th>4</th>\n",
              "      <td>0.431651</td>\n",
              "      <td>0.533538</td>\n",
              "      <td>0.410896</td>\n",
              "      <td>0.521274</td>\n",
              "      <td>0.000000</td>\n",
              "      <td>0.261840</td>\n",
              "      <td>0.486368</td>\n",
              "      <td>0.282594</td>\n",
              "      <td>0.370330</td>\n",
              "      <td>0.468443</td>\n",
              "      <td>0.362783</td>\n",
              "      <td>0.339198</td>\n",
              "      <td>0.344858</td>\n",
              "    </tr>\n",
              "  </tbody>\n",
              "</table>\n",
              "</div>"
            ],
            "text/plain": [
              "   BEAUVAIS-TILLE  BIARRITZ-BAYONNE-ANGLET  BORDEAUX-MERIGNAC  LILLE-LESQUIN  \\\n",
              "0        0.000000                 0.677877           0.518443       0.140142   \n",
              "1        0.677877                 0.000000           0.160896       0.817500   \n",
              "2        0.518443                 0.160896           0.000000       0.657123   \n",
              "3        0.142972                 0.820330           0.660896       0.000000   \n",
              "4        0.431651                 0.533538           0.410896       0.521274   \n",
              "\n",
              "   LYON-SAINT-EXUPERY  MARSEILLE-PROVENCE  NANTES-ATLANTIQUE  \\\n",
              "0            0.431651            0.686368           0.343915   \n",
              "1            0.533538            0.528821           0.392028   \n",
              "2            0.410896            0.476934           0.476934   \n",
              "3            0.521274            0.792028           0.478821   \n",
              "4            0.000000            0.261840           0.486368   \n",
              "\n",
              "   NICE-COTE-D'AZUR  PARIS-ORLY  ROUEN-VALLEE-DE-SEINE  STRASBOURG-ENTZHEIM  \\\n",
              "0          0.708066    0.062783               0.067500             0.400519   \n",
              "1          0.671274    0.620330               0.654292             0.863726   \n",
              "2          0.602406    0.473160               0.497689             0.716557   \n",
              "3          0.783538    0.189198               0.181651             0.379764   \n",
              "4          0.282594    0.370330               0.468443             0.362783   \n",
              "\n",
              "   TOULOUSE-BLAGNAC  TOURS-VAL-DE-LOIRE  \n",
              "0          0.613726            0.235425  \n",
              "1          0.228821            0.442972  \n",
              "2          0.200519            0.283538  \n",
              "3          0.740142            0.375047  \n",
              "4          0.339198            0.344858  "
            ]
          },
          "metadata": {
            "tags": []
          },
          "execution_count": 8
        }
      ]
    },
    {
      "cell_type": "markdown",
      "metadata": {
        "id": "VOoFeRSgJ0_L"
      },
      "source": [
        "# Generation et traitement du Graph\n",
        "\n",
        "\n"
      ]
    },
    {
      "cell_type": "code",
      "metadata": {
        "colab": {
          "base_uri": "https://localhost:8080/",
          "height": 1000
        },
        "id": "iko5PdlKJ5NS",
        "outputId": "cff1a184-ac7e-4fd1-d164-07c11644aa12"
      },
      "source": [
        "def generation_graphe(data,data1,data2,data3,aeroport,seuil):\n",
        "  G = nx.MultiGraph()\n",
        "  for v in aeroport:\n",
        "      G.add_node(v)\n",
        "  seuil_float = float(seuil)    \n",
        "  j = 0\n",
        "  for v in aeroport:\n",
        "    j = 0\n",
        "    for u in aeroport:\n",
        "        #if (u!=v) :\n",
        "          if ((u==\"MARSEILLE-PROVENCE\" and v == \"TOULOUSE-BLAGNAC\")or(u == \"TOULOUSE-BLAGNAC\" and v == \"MARSEILLE-PROVENCE\")):\n",
        "            break\n",
        "          if (data2[v][j]<seuil_float and data2[v][j]!=0):\n",
        "            #print(data2[v][j])\n",
        "            VarAvion=data[v][j] \n",
        "            G.add_weighted_edges_from([(v, u, VarAvion)])\n",
        "          if (data3[v][j]<seuil_float and data3[v][j]!=0) :\n",
        "            print(data2[v][j])\n",
        "            VarVoiture=data1[v][j] \n",
        "            G.add_weighted_edges_from([(v, u, VarVoiture)])\n",
        "          j=j+1\n",
        "           \n",
        "  return G\n",
        "  \n",
        "\n",
        "seuil = input(\"Veuillez saisir un seuil : \")\n",
        "\n",
        "seuil_float = float(seuil)\n",
        "\n",
        "G = generation_graphe(DatAvion, DatVehicule,DatDistanceAvion, DatDistanceVehicule, aeroport,seuil_float)\n",
        "\n",
        "options = {\n",
        "    'node_color': 'var_transfertellow',\n",
        "    'node_size': 550,\n",
        "    'edge_color': 'tab:gravar_transfert',\n",
        "    'with_labels': True,\n",
        "    'width': 2,\n",
        "}\n",
        "\n",
        "for v in aeroport :\n",
        "  print(v)\n",
        "\n",
        "debut = input(\"Veuillez saisir Laeroport de depart: \")\n",
        "\n",
        "\n",
        "fin = input(\"Veuillez saisir Laeroport d'arriver: \")\n",
        "\n",
        "\n",
        "algo = (nx.shortest_path(G, source= debut, target=fin, method='dijkstra'))\n",
        "couleurs_arcs =['blue']*G.number_of_edges()\n",
        "\n",
        "\n",
        "var_transfert =0\n",
        "\n",
        "while (var_transfert < len(algo)-1):\n",
        "    for v in enumerate(G.edges):\n",
        "        # z, j= v[1]\n",
        "\n",
        "        z,j,x = v[1]\n",
        "        #print(v[1])\n",
        "        if ((z==algo[var_transfert])and (j==algo[var_transfert+1]))or ((z==algo[var_transfert+1]) and (j==algo[var_transfert])):\n",
        "          couleurs_arcs[v[0]]= \"red\"\n",
        "\n",
        "    var_transfert=var_transfert+1\n",
        "options = {\n",
        "    'node_color': 'Yellow',\n",
        "    'node_size': 550,\n",
        "    'edge_color': couleurs_arcs,\n",
        "    'with_labels': True,\n",
        "    'width': 2,\n",
        "}\n",
        "print(len(algo))\n",
        "plt.figure(figsize=(10, 10))\n",
        "pos = nx.spring_layout(G,k=0.1)\n",
        "nx.draw(G, pos, **options)\n",
        "plt.show()"
      ],
      "execution_count": null,
      "outputs": [
        {
          "output_type": "stream",
          "text": [
            "Veuillez saisir un seuil : 0.45\n",
            "BEAUVAIS-TILLE\n",
            "BIARRITZ-BAYONNE-ANGLET\n",
            "BORDEAUX-MERIGNAC\n",
            "LILLE-LESQUIN\n",
            "LYON-SAINT-EXUPERY\n",
            "MARSEILLE-PROVENCE\n",
            "NANTES-ATLANTIQUE\n",
            "NICE-COTE-D'AZUR\n",
            "PARIS-ORLY\n",
            "ROUEN-VALLEE-DE-SEINE\n",
            "STRASBOURG-ENTZHEIM\n",
            "TOULOUSE-BLAGNAC\n",
            "TOURS-VAL-DE-LOIRE\n",
            "Veuillez saisir Laeroport de depart: LILLE-LESQUIN\n",
            "Veuillez saisir Laeroport de d'arriver: LYON-SAINT-EXUPERY\n",
            "3\n"
          ],
          "name": "stdout"
        },
        {
          "output_type": "display_data",
          "data": {
            "image/png": "[encoded data removed]",
            "text/plain": [
              "<Figure size 720x720 with 1 Axes>"
            ]
          },
          "metadata": {
            "tags": []
          }
        }
      ]
    },
    {
      "cell_type": "markdown",
      "metadata": {
        "id": "8ZhGF73sr-VV"
      },
      "source": [
        "# Affichage du resultat\n",
        "\n"
      ]
    },
    {
      "cell_type": "code",
      "metadata": {
        "id": "zJZuWw9y3d8C"
      },
      "source": [
        "def Convertisseur(fin):\n",
        "  if (fin == \"BEAUVAIS-TILLE\"):\n",
        "    return 0\n",
        "  elif (fin == \"BIARRITZ-BAYONNE-ANGLET\" ):\n",
        "    return 1\n",
        "  elif (fin == \"BORDEAUX-MERIGNAC\"):\n",
        "    return 2\n",
        "  elif (fin == \"LILLE-LESQUIN\"):\n",
        "    return 3\n",
        "  elif (fin == \"LYON-SAINT-EXUPERY\"):\n",
        "    return 4\n",
        "  elif (fin == \"MARSEILLE-PROVENCE\"):\n",
        "    return 5\n",
        "  elif (fin == \"NANTES-ATLANTIQUE\"):\n",
        "    return 6  \n",
        "  elif (fin == \"NICE-COTE-D'AZUR\"):\n",
        "    return 7\n",
        "  elif (fin == \"PARIS-ORLY\"):\n",
        "    return 8\n",
        "  elif (fin == \"ROUEN-VALLEE-DE-SEINE\"):\n",
        "    return 9\n",
        "  elif (fin == \"STRASBOURG-ENTZHEIM\"):\n",
        "    return 10\n",
        "  elif (fin == \"TOULOUSE-BLAGNAC\"):\n",
        "    return 11\n",
        "  elif (fin == \"TOURS-VAL-DE-LOIRE\"):\n",
        "    return 12\n"
      ],
      "execution_count": null,
      "outputs": []
    },
    {
      "cell_type": "code",
      "metadata": {
        "colab": {
          "base_uri": "https://localhost:8080/"
        },
        "id": "7R2MTAS1sLUP",
        "outputId": "dcc599d2-3db2-410c-baa6-8c0ee022da2f"
      },
      "source": [
        "print(nx.shortest_path(G, source=debut, target=fin,method='dijkstra'))\n",
        "i=0\n",
        "while (i<len(algo)-1):\n",
        "  if (DatAvion[algo[i]][Convertisseur(algo[i+1])]>DatVehicule[algo[i]][Convertisseur(algo[i+1])] and DatDistanceVehicule[algo[i]][Convertisseur(algo[i+1])]<seuil_float):\n",
        "    print('De '+ algo[i] +' à '+ algo[i+1] +' il faut prendre la voiture')\n",
        "    \n",
        "    \n",
        "  else :\n",
        "    print('De '+algo[i]+' à '+ algo[i+1]+' il faut prendre l avion')\n",
        "  i=i+1"
      ],
      "execution_count": null,
      "outputs": [
        {
          "output_type": "stream",
          "text": [
            "['LILLE-LESQUIN', 'PARIS-ORLY', 'LYON-SAINT-EXUPERY']\n",
            "De LILLE-LESQUIN à PARIS-ORLY il faut prendre l avion\n",
            "De PARIS-ORLY à LYON-SAINT-EXUPERY il faut prendre l avion\n"
          ],
          "name": "stdout"
        }
      ]
    }
  ]
}